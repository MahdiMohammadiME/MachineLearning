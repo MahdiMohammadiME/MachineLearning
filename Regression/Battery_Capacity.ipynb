{
  "nbformat": 4,
  "nbformat_minor": 0,
  "metadata": {
    "colab": {
      "name": "Battery Capacity",
      "provenance": [],
      "authorship_tag": "ABX9TyPaq48MronwJ0Xw/7YqK1kB",
      "include_colab_link": true
    },
    "kernelspec": {
      "name": "python3",
      "display_name": "Python 3"
    }
  },
  "cells": [
    {
      "cell_type": "markdown",
      "metadata": {
        "id": "view-in-github",
        "colab_type": "text"
      },
      "source": [
        "<a href=\"https://colab.research.google.com/github/msiddalingaiah/MachineLearning/blob/master/Regression/Battery_Capacity.ipynb\" target=\"_parent\"><img src=\"https://colab.research.google.com/assets/colab-badge.svg\" alt=\"Open In Colab\"/></a>"
      ]
    },
    {
      "cell_type": "code",
      "metadata": {
        "id": "jUIvQPQVoKCP"
      },
      "source": [
        "import numpy as np\r\n",
        "import pandas as pd\r\n",
        "import matplotlib.pyplot as plt"
      ],
      "execution_count": 2,
      "outputs": []
    },
    {
      "cell_type": "code",
      "metadata": {
        "colab": {
          "base_uri": "https://localhost:8080/"
        },
        "id": "9gRCDDUHoalT",
        "outputId": "326b561a-86ad-4b72-ca55-dc05a23094b1"
      },
      "source": [
        "capacity = [100 - x*10 for x in range(11)]\r\n",
        "voltage = [1.59, 1.44, 1.38, 1.34, 1.32, 1.30, 1.28, 1.26, 1.23, 1.20, 1.10]\r\n",
        "voltage"
      ],
      "execution_count": 9,
      "outputs": [
        {
          "output_type": "execute_result",
          "data": {
            "text/plain": [
              "[1.59, 1.44, 1.38, 1.34, 1.32, 1.3, 1.28, 1.26, 1.23, 1.2, 1.1]"
            ]
          },
          "metadata": {
            "tags": []
          },
          "execution_count": 9
        }
      ]
    },
    {
      "cell_type": "code",
      "metadata": {
        "colab": {
          "base_uri": "https://localhost:8080/",
          "height": 313
        },
        "id": "7jlaEIinvwx7",
        "outputId": "20d2ad8f-8c1a-4b98-8cd2-4f1448761fd8"
      },
      "source": [
        "plt.plot(capacity, voltage)\r\n",
        "plt.title('Voltage vs. Capacity')\r\n",
        "plt.xlabel('Capacity (%)')\r\n",
        "plt.ylabel('Voltage (V)')"
      ],
      "execution_count": 10,
      "outputs": [
        {
          "output_type": "execute_result",
          "data": {
            "text/plain": [
              "Text(0, 0.5, 'Voltage (V)')"
            ]
          },
          "metadata": {
            "tags": []
          },
          "execution_count": 10
        },
        {
          "output_type": "display_data",
          "data": {
            "image/png": "[encoded data removed]",
            "text/plain": [
              "<Figure size 432x288 with 1 Axes>"
            ]
          },
          "metadata": {
            "tags": [],
            "needs_background": "light"
          }
        }
      ]
    },
    {
      "cell_type": "code",
      "metadata": {
        "id": "UZlH33FwzLMq"
      },
      "source": [
        "model = np.poly1d(np.polyfit(capacity, voltage, 7))"
      ],
      "execution_count": 36,
      "outputs": []
    },
    {
      "cell_type": "code",
      "metadata": {
        "colab": {
          "base_uri": "https://localhost:8080/",
          "height": 313
        },
        "id": "Vx4THpuFzrOr",
        "outputId": "4cdf87fc-df67-4762-e401-153d7fce769a"
      },
      "source": [
        "x = np.arange(0, 100, 0.1)\r\n",
        "y = model(x)\r\n",
        "plt.plot(capacity, voltage)\r\n",
        "plt.plot(x, y)\r\n",
        "plt.title('Voltage vs. Capacity')\r\n",
        "plt.xlabel('Capacity (%)')\r\n",
        "plt.ylabel('Voltage (V)')"
      ],
      "execution_count": 37,
      "outputs": [
        {
          "output_type": "execute_result",
          "data": {
            "text/plain": [
              "Text(0, 0.5, 'Voltage (V)')"
            ]
          },
          "metadata": {
            "tags": []
          },
          "execution_count": 37
        },
        {
          "output_type": "display_data",
          "data": {
            "image/png": "[encoded data removed]",
            "text/plain": [
              "<Figure size 432x288 with 1 Axes>"
            ]
          },
          "metadata": {
            "tags": [],
            "needs_background": "light"
          }
        }
      ]
    },
    {
      "cell_type": "code",
      "metadata": {
        "colab": {
          "base_uri": "https://localhost:8080/"
        },
        "id": "gLUSIZuG09D3",
        "outputId": "5d1098cc-c213-455d-f7d5-4b129dbb24fd"
      },
      "source": [
        "mse = np.sum((model(capacity) - voltage)**2)\r\n",
        "mse"
      ],
      "execution_count": 38,
      "outputs": [
        {
          "output_type": "execute_result",
          "data": {
            "text/plain": [
              "2.199917729329533e-05"
            ]
          },
          "metadata": {
            "tags": []
          },
          "execution_count": 38
        }
      ]
    },
    {
      "cell_type": "code",
      "metadata": {
        "id": "H-qxBxqu8Abz"
      },
      "source": [
        "def get_capacity(v_measured):\r\n",
        "  for c in np.arange(0, 100, 0.1):\r\n",
        "    if model(c) >= v_measured:\r\n",
        "      return c"
      ],
      "execution_count": 47,
      "outputs": []
    },
    {
      "cell_type": "code",
      "metadata": {
        "colab": {
          "base_uri": "https://localhost:8080/"
        },
        "id": "VdXaZ8St8Ubb",
        "outputId": "552aa75b-e02b-4b58-e058-d505ced1145e"
      },
      "source": [
        "get_capacity(1.5)"
      ],
      "execution_count": 50,
      "outputs": [
        {
          "output_type": "execute_result",
          "data": {
            "text/plain": [
              "95.30000000000001"
            ]
          },
          "metadata": {
            "tags": []
          },
          "execution_count": 50
        }
      ]
    }
  ]
}